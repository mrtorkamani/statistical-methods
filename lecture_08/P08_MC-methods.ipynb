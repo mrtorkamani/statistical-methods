{
 "cells": [
  {
   "cell_type": "markdown",
   "metadata": {},
   "source": [
    "# P08: Monte Carlo methods"
   ]
  },
  {
   "cell_type": "markdown",
   "metadata": {},
   "source": [
    "In this problem set, we will the matter density of the Universe from Supernovae type Ia data published by the SNLS team ([Conley et al., 2011](http://arxiv.org/abs/1104.1443)). Supernovae of type Ia are standard candles, meaning that their intrinsic luminosity is always roughly the same. The following plot shows all supernova magnitudes contained in the SNLS catalog as a function of redshift."
   ]
  },
  {
   "cell_type": "code",
   "execution_count": 1,
   "metadata": {},
   "outputs": [],
   "source": [
    "import numpy as np\n",
    "import matplotlib.pyplot as plt\n",
    "%matplotlib inline\n",
    "import sys\n",
    "sys.path.append('scripts')"
   ]
  },
  {
   "cell_type": "code",
   "execution_count": 2,
   "metadata": {},
   "outputs": [],
   "source": [
    "from SNLSLikelihoodModule import SNLSLikelihoodModule"
   ]
  },
  {
   "cell_type": "code",
   "execution_count": 3,
   "metadata": {},
   "outputs": [],
   "source": [
    "likelihood = SNLSLikelihoodModule('data/')"
   ]
  },
  {
   "cell_type": "code",
   "execution_count": 5,
   "metadata": {},
   "outputs": [
    {
     "data": {
      "text/plain": [
       "Text(0.5, 1.0, 'SNLS dataset')"
      ]
     },
     "execution_count": 5,
     "metadata": {},
     "output_type": "execute_result"
    },
    {
     "data": {
      "image/png": "[encoded data removed]",
      "text/plain": [
       "<Figure size 432x288 with 1 Axes>"
      ]
     },
     "metadata": {
      "needs_background": "light"
     },
     "output_type": "display_data"
    }
   ],
   "source": [
    "plt.plot(likelihood.lcdparams['zcmb'], likelihood.lcdparams['mb'], marker='.', linewidth=2, markersize=10, \\\n",
    "            linestyle='None', color='#AE7182')\n",
    "plt.xlabel('z')\n",
    "plt.ylabel('magnitude')\n",
    "plt.title('SNLS dataset')"
   ]
  },
  {
   "cell_type": "markdown",
   "metadata": {},
   "source": [
    "The observed flux $F$ of a given source as a function of redshift $z$ and intrinsic luminosity $L$ is given by $$F(z, L) = \\frac L {4\\pi d_L(z)^2},$$\n",
    "\n",
    "where $d_L(z)$ is the luminosity distance to a redshift $z$ which depends on the background cosmology of our Universe. By measuring the luminosity of Supernovae as a function of redshift one can therefore learn about the expansion history of our Universe. \n",
    "\n",
    "Below you can see the luminosity distance for a $\\Lambda$ CDM universe with a matter density today of $\\Omega_m = 0.3$:"
   ]
  },
  {
   "cell_type": "code",
   "execution_count": 11,
   "metadata": {},
   "outputs": [
    {
     "data": {
      "text/plain": [
       "[]"
      ]
     },
     "execution_count": 11,
     "metadata": {},
     "output_type": "execute_result"
    },
    {
     "data": {
      "image/png": "[encoded data removed]",
      "text/plain": [
       "<Figure size 432x288 with 1 Axes>"
      ]
     },
     "metadata": {
      "needs_background": "light"
     },
     "output_type": "display_data"
    }
   ],
   "source": [
    "z = np.linspace(0, 1.4, 100)\n",
    "dL = likelihood.getLCDMLuminosityDistance(z, 0.3)\n",
    "plt.plot(z, dL, linewidth=2, color='#AE7182')\n",
    "plt.xlabel('z')\n",
    "plt.ylabel('$d_L\\; [c/H_0 \\mathrm{Mpc}]$')\n",
    "plt.semilogy()"
   ]
  },
  {
   "cell_type": "markdown",
   "metadata": {},
   "source": [
    "## Problem 1: The SNLS likelihood"
   ]
  },
  {
   "cell_type": "markdown",
   "metadata": {},
   "source": [
    "In the repository you can find a simplified implementation of the likelihood of the SNLS dataset. \n",
    "\n",
    "SNe Ia are not perfect standard candles, and thus the theoretical model for the observed magnitude of a SNe Ia at redshift $z$ is given by $$m_{\\mathrm{mod}}=5\\log{d_L(z, \\Omega_m)} - \\alpha(s-1)+\\beta C+M,$$\n",
    "where $d_L(z, \\Omega_m)$ is the luminosity distance as before, $s$ is the stretch of the SNe Ia, and $C$ its color. \n",
    "\n",
    "The model depends on four parameters: The matter density in the Universe today $\\Omega_m$, a stretch parameter $\\alpha$, a color parameter $\\beta$, and an absolute magnitude parameter $M$. While the first one is a parameter of cosmological interest, the other three parameters are so-called nuisance parameters. \n",
    "\n",
    "The likelihood of the data given this model is then given by $$p(\\Omega_m, \\alpha,\\beta, M)\\propto e^{-1/2(m_B-m_{\\mathrm{mod}})^TC^{-1}(m_B-m_{\\mathrm{mod}})},$$ where $m_B$ is the observed SNe Ia magnitude and $C$ the combined covariance matrix. This is implemented in the likelihood script.\n",
    "\n",
    "Using the SNLS likelihood, find out how to plot the model magnitudes along with the SNLS data and errorbars on the SNLS data given the parameters $\\Omega_m = 0.3$, $\\alpha = 1.0, \\beta = 2.0$, and $M = 24$."
   ]
  },
  {
   "cell_type": "markdown",
   "metadata": {},
   "source": [
    "## Problem 2: Metropolis-Hastings "
   ]
  },
  {
   "cell_type": "markdown",
   "metadata": {},
   "source": [
    "(i) Write a Metropolis-Hastings sampler that takes an instance of the likelihood module, an initial position in parameter space, a covariance matrix for a Gaussian proposal distribution, and the number of iterations as an argument and returns the sample from the posterior assuming a flat prior on all parameters. \n",
    "\n",
    "(ii) Test it with the following minimal likelihood module for a 1D standard normal distribution."
   ]
  },
  {
   "cell_type": "code",
   "execution_count": 10,
   "metadata": {},
   "outputs": [],
   "source": [
    "class standardnormal(object):\n",
    "    \n",
    "    def __init__(self):\n",
    "        pass\n",
    "    \n",
    "    def getLogLikelihood(self, x):\n",
    "        return -.5 * x**2"
   ]
  },
  {
   "cell_type": "markdown",
   "metadata": {},
   "source": [
    "## Problem 3: Estimate the parameters $\\Omega_m, \\alpha, \\beta, M$ using the SNLS data"
   ]
  },
  {
   "cell_type": "markdown",
   "metadata": {},
   "source": [
    "(i) Use your sampler from problem 2 to create a chain of samples from the posterior of the SNLS likelihood assuming a flat prior on all model parameters. As initial points you can choose to start around the parameter values given in problem 1. Additionally, you can use a Gaussian proposal distribution as before and for the start you can assume a standard deviation of $\\sigma=0.1$ for all model parameters and set all correlations to zero.\n",
    "\n",
    "(ii) Write a routine that estimates the fraction of accepted iterations relative to the total number of iterations. \n",
    "\n",
    "(iii) Use the created samples to improve your best guess for the covariance matrix of the proposal and monitor the improvement using the acceptance fraction. \n",
    "\n",
    "(iv) Once you have acceptance fraction of order $0.1$ or higher, estimate mean, standard deviation, covariance between parameters, and median of the parameters from the chain."
   ]
  },
  {
   "cell_type": "code",
   "execution_count": null,
   "metadata": {},
   "outputs": [],
   "source": []
  }
 ],
 "metadata": {
  "kernelspec": {
   "display_name": "statmeth_env",
   "language": "python",
   "name": "statmeth_env"
  },
  "language_info": {
   "codemirror_mode": {
    "name": "ipython",
    "version": 3
   },
   "file_extension": ".py",
   "mimetype": "text/x-python",
   "name": "python",
   "nbconvert_exporter": "python",
   "pygments_lexer": "ipython3",
   "version": "3.11.4"
  }
 },
 "nbformat": 4,
 "nbformat_minor": 2
}
