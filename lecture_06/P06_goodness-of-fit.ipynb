{
 "cells": [
  {
   "cell_type": "markdown",
   "metadata": {},
   "source": [
    "# P06: Goodness-of-fit and hypothesis testing"
   ]
  },
  {
   "cell_type": "markdown",
   "metadata": {},
   "source": [
    "## Problem 1: Fitting stellar luminosities"
   ]
  },
  {
   "cell_type": "markdown",
   "metadata": {},
   "source": [
    "Let us assume that we measure the luminosity as a function of time for four samples of stars. Each sample contains 100 stars and we measure their luminosity at 50 times each. The recorded values for the stellar luminosities for four samples are in the `data` directory and designated `starcat_1.npy`, `starcat_2.npy`, `starcat_3.npy` and `starcat_4.npy`. The values are given in units of $L_\\odot$.\n",
    "\n",
    "Our hypothesis is that all stars in these four catalogs are non-variable, i.e. their luminosity does not vary as a function of time, and that the observed luminosities are normally distributed with a standard deviation of $\\sigma(L_*)=0.1L_*$.\n",
    "\n",
    "(i) Test if the data is consistent with this hypothesis by comparing the data to model predictions and computing the $\\chi^2$ values of the observed data with respect to the assumed model.\n",
    "\n",
    "(ii) Try to diagnose the reasons for the discrepancies found (if any)."
   ]
  },
  {
   "cell_type": "markdown",
   "metadata": {},
   "source": [
    "In the next three problems, we want to analyze seven astrophysical catalogs containing the magnitudes of galaxies in three different wavelength bands. The goal is to find out if some of the datasets are not consistent with each other."
   ]
  },
  {
   "cell_type": "code",
   "execution_count": 16,
   "metadata": {},
   "outputs": [],
   "source": [
    "import numpy as np\n",
    "import matplotlib.pyplot as plt\n",
    "s1 = np.load('data/starcat_1.npy')\n",
    "s2 = np.load('data/starcat_2.npy')\n",
    "s3 = np.load('data/starcat_3.npy')\n",
    "s4 = np.load('data/starcat_4.npy')"
   ]
  },
  {
   "cell_type": "code",
   "execution_count": 62,
   "metadata": {},
   "outputs": [
    {
     "name": "stdout",
     "output_type": "stream",
     "text": [
      "0.040335919083140284\n"
     ]
    },
    {
     "data": {
      "text/plain": [
       "\"\\n# Berechnung der Chi-Quadrat-Werte\\nchi_squared_1 = np.sum(((starcat_1 - np.mean(starcat_1)) / expected_std) ** 2)\\nchi_squared_2 = np.sum(((starcat_2 - np.mean(starcat_2)) / expected_std) ** 2)\\nchi_squared_3 = np.sum(((starcat_3 - np.mean(starcat_3)) / expected_std) ** 2)\\nchi_squared_4 = np.sum(((starcat_4 - np.mean(starcat_4)) / expected_std) ** 2)\\n\\n# Freiheitsgrade (Anzahl der Messungen - 1)\\ndf = len(starcat_1.flatten()) - 1\\n\\n# Chi-Quadrat-Kritischer Wert für Signifikanzniveau 0.05\\ncritical_value = chi2.ppf(0.95, df)\\n\\n# Ergebnisse ausgeben\\nprint(f'Chi-Quadrat-Wert für Katalog 1: {chi_squared_1}')\\nprint(f'Chi-Quadrat-Wert für Katalog 2: {chi_squared_2}')\\nprint(f'Chi-Quadrat-Wert für Katalog 3: {chi_squared_3}')\\nprint(f'Chi-Quadrat-Wert für Katalog 4: {chi_squared_4}')\\n\\nprint(f'Kritischer Wert bei {df} Freiheitsgraden: {critical_value}')\\n\\n# Überprüfen, ob die Hypothese abgelehnt wird\\nif chi_squared_1 > critical_value or chi_squared_2 > critical_value or chi_squared_3 > critical_value or chi_squared_4 > critical_value:\\n    print('Die Hypothese wird abgelehnt. Die Daten sind nicht konsistent mit der Annahme nicht-variabler Leuchtkräfte.')\\nelse:\\n    print('Die Hypothese wird nicht abgelehnt. Die Daten sind konsistent mit der Annahme nicht-variabler Leuchtkräfte.')\\n\""
      ]
     },
     "execution_count": 62,
     "metadata": {},
     "output_type": "execute_result"
    }
   ],
   "source": [
    "import numpy as np\n",
    "from scipy.stats import chi2\n",
    "\n",
    "# Daten laden\n",
    "starcat_1 = np.load('data/starcat_1.npy')\n",
    "#starcat_2 = np.load('data/starcat_2.npy')\n",
    "#starcat_3 = np.load('data/starcat_3.npy')\n",
    "#starcat_4 = np.load('data/starcat_4.npy')\n",
    "\n",
    "# Annahmen\n",
    "sigma = 0.1  # Standardabweichung\n",
    "#expected_std = np.std(np.concatenate([starcat_1, starcat_2, starcat_3, starcat_4]))  # Erwartete Standardabweichung\n",
    "expected_std= np.std(starcat_1[0])\n",
    "print(expected_std)\n",
    "'''\n",
    "# Berechnung der Chi-Quadrat-Werte\n",
    "chi_squared_1 = np.sum(((starcat_1 - np.mean(starcat_1)) / expected_std) ** 2)\n",
    "chi_squared_2 = np.sum(((starcat_2 - np.mean(starcat_2)) / expected_std) ** 2)\n",
    "chi_squared_3 = np.sum(((starcat_3 - np.mean(starcat_3)) / expected_std) ** 2)\n",
    "chi_squared_4 = np.sum(((starcat_4 - np.mean(starcat_4)) / expected_std) ** 2)\n",
    "\n",
    "# Freiheitsgrade (Anzahl der Messungen - 1)\n",
    "df = len(starcat_1.flatten()) - 1\n",
    "\n",
    "# Chi-Quadrat-Kritischer Wert für Signifikanzniveau 0.05\n",
    "critical_value = chi2.ppf(0.95, df)\n",
    "\n",
    "# Ergebnisse ausgeben\n",
    "print(f'Chi-Quadrat-Wert für Katalog 1: {chi_squared_1}')\n",
    "print(f'Chi-Quadrat-Wert für Katalog 2: {chi_squared_2}')\n",
    "print(f'Chi-Quadrat-Wert für Katalog 3: {chi_squared_3}')\n",
    "print(f'Chi-Quadrat-Wert für Katalog 4: {chi_squared_4}')\n",
    "\n",
    "print(f'Kritischer Wert bei {df} Freiheitsgraden: {critical_value}')\n",
    "\n",
    "# Überprüfen, ob die Hypothese abgelehnt wird\n",
    "if chi_squared_1 > critical_value or chi_squared_2 > critical_value or chi_squared_3 > critical_value or chi_squared_4 > critical_value:\n",
    "    print('Die Hypothese wird abgelehnt. Die Daten sind nicht konsistent mit der Annahme nicht-variabler Leuchtkräfte.')\n",
    "else:\n",
    "    print('Die Hypothese wird nicht abgelehnt. Die Daten sind konsistent mit der Annahme nicht-variabler Leuchtkräfte.')\n",
    "'''"
   ]
  },
  {
   "cell_type": "code",
   "execution_count": 94,
   "metadata": {},
   "outputs": [
    {
     "name": "stdout",
     "output_type": "stream",
     "text": [
      "1.6110694623948687\n"
     ]
    },
    {
     "data": {
      "image/png": "[encoded data removed]",
      "text/plain": [
       "<Figure size 640x480 with 1 Axes>"
      ]
     },
     "metadata": {},
     "output_type": "display_data"
    }
   ],
   "source": [
    "def chi2(x):\n",
    "    mean = np.mean(x)\n",
    "    sigma = np.var(x)\n",
    "    #sigma = 0.1\n",
    "    chi2 = np.sum(((x-mean)/sigma)**2)\n",
    "    return chi2\n",
    "#chi2(s1[2])\n",
    "Chi2 = np.zeros(100)\n",
    "for i in range(100):\n",
    "    Chi2[i] = chi2(s1[i])\n",
    "plt.hist(s1[3])\n",
    "print(chi2(s1[3]))"
   ]
  },
  {
   "cell_type": "markdown",
   "metadata": {},
   "source": [
    "## Problem 2: Magnitude distributions and colors"
   ]
  },
  {
   "cell_type": "markdown",
   "metadata": {},
   "source": [
    "Use `astropy.io.fits` to load the six fits files called `magnitudes0.fits` to `magnitudes5.fits`. Find out how to extract the magnitudes of the galaxies in each of the files in $g$, $r$, and $i$ bands. Write a function that takes the fits object and returns the colors:\n",
    "$$C_1 =  \\mathrm{mag}_g - \\mathrm{mag}_r$$\n",
    "$$C_2 =  \\mathrm{mag}_i - \\mathrm{mag}_r$$\n",
    "Plot histograms of the colors and the color-color plane of each of the catalogs. \n",
    "\n",
    "Can you spot the non-consistent catalogs by eye?"
   ]
  },
  {
   "cell_type": "markdown",
   "metadata": {},
   "source": [
    "## Problem 3: T-test"
   ]
  },
  {
   "cell_type": "markdown",
   "metadata": {},
   "source": [
    "Use the t-test (from `scipy.stats.ttest_ind`, for example) to compare both $C_1$ and $C_2$ between the different catalogs. \n",
    "\n",
    "Which catalogs are non-consistent with 95% confidence? "
   ]
  },
  {
   "cell_type": "markdown",
   "metadata": {},
   "source": [
    "## Problem 4: KS-test"
   ]
  },
  {
   "cell_type": "markdown",
   "metadata": {},
   "source": [
    "Use the KS-test (from `scipy.stats.ks_2samp`, for example) to compare both $C_1$ and $C_2$ between the different catalogs. \n",
    "\n",
    "(i) Which catalogs are non-consistent with 95% confidence? \n",
    "\n",
    "(ii) How do you explain the discrepancies between findings of problem 3 and 4?"
   ]
  },
  {
   "cell_type": "code",
   "execution_count": null,
   "metadata": {},
   "outputs": [],
   "source": []
  }
 ],
 "metadata": {
  "kernelspec": {
   "display_name": "Python 3 (ipykernel)",
   "language": "python",
   "name": "python3"
  },
  "language_info": {
   "codemirror_mode": {
    "name": "ipython",
    "version": 3
   },
   "file_extension": ".py",
   "mimetype": "text/x-python",
   "name": "python",
   "nbconvert_exporter": "python",
   "pygments_lexer": "ipython3",
   "version": "3.8.10"
  }
 },
 "nbformat": 4,
 "nbformat_minor": 4
}
