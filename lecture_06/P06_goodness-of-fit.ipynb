{
 "cells": [
  {
   "cell_type": "markdown",
   "metadata": {},
   "source": [
    "# P06: Goodness-of-fit and hypothesis testing"
   ]
  },
  {
   "cell_type": "markdown",
   "metadata": {},
   "source": [
    "## Problem 1: Fitting stellar luminosities"
   ]
  },
  {
   "cell_type": "markdown",
   "metadata": {},
   "source": [
    "Let us assume that we measure the luminosity as a function of time for four samples of stars. Each sample contains 100 stars and we measure their luminosity at 50 times each. The recorded values for the stellar luminosities for four samples are in the `data` directory and designated `starcat_1.npy`, `starcat_2.npy`, `starcat_3.npy` and `starcat_4.npy`. The values are given in units of $L_\\odot$.\n",
    "\n",
    "Our hypothesis is that all stars in these four catalogs are non-variable, i.e. their luminosity does not vary as a function of time, and that the observed luminosities are normally distributed with a standard deviation of $\\sigma(L_*)=0.1L_*$.\n",
    "\n",
    "(i) Test if the data is consistent with this hypothesis by comparing the data to model predictions and computing the $\\chi^2$ values of the observed data with respect to the assumed model.\n",
    "\n",
    "(ii) Try to diagnose the reasons for the discrepancies found (if any)."
   ]
  },
  {
   "cell_type": "markdown",
   "metadata": {},
   "source": [
    "In the next three problems, we want to analyze seven astrophysical catalogs containing the magnitudes of galaxies in three different wavelength bands. The goal is to find out if some of the datasets are not consistent with each other."
   ]
  },
  {
   "cell_type": "markdown",
   "metadata": {},
   "source": [
    "## Problem 2: Magnitude distributions and colors"
   ]
  },
  {
   "cell_type": "markdown",
   "metadata": {},
   "source": [
    "Use `astropy.io.fits` to load the six fits files called `magnitudes0.fits` to `magnitudes5.fits`. Find out how to extract the magnitudes of the galaxies in each of the files in $g$, $r$, and $i$ bands. Write a function that takes the fits object and returns the colors:\n",
    "$$C_1 =  \\mathrm{mag}_g - \\mathrm{mag}_r$$\n",
    "$$C_2 =  \\mathrm{mag}_i - \\mathrm{mag}_r$$\n",
    "Plot histograms of the colors and the color-color plane of each of the catalogs. \n",
    "\n",
    "Can you spot the non-consistent catalogs by eye?"
   ]
  },
  {
   "cell_type": "markdown",
   "metadata": {},
   "source": [
    "## Problem 3: T-test"
   ]
  },
  {
   "cell_type": "markdown",
   "metadata": {},
   "source": [
    "Use the t-test (from `scipy.stats.ttest_ind`, for example) to compare both $C_1$ and $C_2$ between the different catalogs. \n",
    "\n",
    "Which catalogs are non-consistent with 95% confidence? "
   ]
  },
  {
   "cell_type": "markdown",
   "metadata": {},
   "source": [
    "## Problem 4: KS-test"
   ]
  },
  {
   "cell_type": "markdown",
   "metadata": {},
   "source": [
    "Use the KS-test (from `scipy.stats.ks_2samp`, for example) to compare both $C_1$ and $C_2$ between the different catalogs. \n",
    "\n",
    "(i) Which catalogs are non-consistent with 95% confidence? \n",
    "\n",
    "(ii) How do you explain the discrepancies between findings of problem 3 and 4?"
   ]
  },
  {
   "cell_type": "code",
   "execution_count": null,
   "metadata": {},
   "outputs": [],
   "source": []
  }
 ],
 "metadata": {
  "kernelspec": {
   "display_name": "statmeth_env",
   "language": "python",
   "name": "statmeth_env"
  },
  "language_info": {
   "codemirror_mode": {
    "name": "ipython",
    "version": 3
   },
   "file_extension": ".py",
   "mimetype": "text/x-python",
   "name": "python",
   "nbconvert_exporter": "python",
   "pygments_lexer": "ipython3",
   "version": "3.11.4"
  }
 },
 "nbformat": 4,
 "nbformat_minor": 2
}
