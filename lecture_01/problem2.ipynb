{
 "cells": [
  {
   "cell_type": "code",
   "execution_count": 1,
   "id": "e612789c-0380-4a03-8fa5-0060632f70da",
   "metadata": {},
   "outputs": [],
   "source": [
    "import function as f\n",
    "import plotting as pl"
   ]
  },
  {
   "cell_type": "code",
   "execution_count": 2,
   "id": "615a9592-9590-4dd4-a596-68fcc94b6360",
   "metadata": {},
   "outputs": [],
   "source": [
    "theta, phi = f.sample_sphere(10000)\n",
    "x,y,z = f.get_cartesian_coords(theta,phi)"
   ]
  },
  {
   "cell_type": "code",
   "execution_count": null,
   "id": "c694db98-e69b-453e-9f63-1b5b6c0813b1",
   "metadata": {},
   "outputs": [],
   "source": []
  }
 ],
 "metadata": {
  "kernelspec": {
   "display_name": "Python 3 (ipykernel)",
   "language": "python",
   "name": "python3"
  },
  "language_info": {
   "codemirror_mode": {
    "name": "ipython",
    "version": 3
   },
   "file_extension": ".py",
   "mimetype": "text/x-python",
   "name": "python",
   "nbconvert_exporter": "python",
   "pygments_lexer": "ipython3",
   "version": "3.8.10"
  }
 },
 "nbformat": 4,
 "nbformat_minor": 5
}
