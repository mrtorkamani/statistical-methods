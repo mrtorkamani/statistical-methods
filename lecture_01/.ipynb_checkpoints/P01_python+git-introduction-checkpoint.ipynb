{
 "cells": [
  {
   "cell_type": "markdown",
   "metadata": {},
   "source": [
    "# P01: A short introduction to $\\texttt{python}$ & $\\texttt{git}$"
   ]
  },
  {
   "cell_type": "markdown",
   "metadata": {},
   "source": [
    "## Problem 1: Randomly sampling points on the sphere"
   ]
  },
  {
   "cell_type": "markdown",
   "metadata": {},
   "source": [
    "In this problem, we will learn how to generate points that uniformly sample the surface of a sphere.\n",
    "\n",
    "First, go to the class' `jupyterhub` server and create a new notebook. In your notebook, do the following:\n",
    " \n",
    "- Write a piece of code that will sample 10,000 points uniformly distributed on the surface of a sphere. Your code should return the points' angular coordinates $\\theta, \\phi$ (you can assume a unit sphere wlog).  \n",
    "- Write a piece of code that will project the points into Carthesian coordinates ($x, y, z$), again assuming unit radius.  \n",
    "- Make three 2D scatter plots of the points after projecting along the $x, y$ and $z$ axis. \n",
    "- Plot a 1D histogram of the $x, y$ and $z$ distributions.\n",
    "- Interpret your results. In particular, discuss if your points are uniformly distributed. Why? Why not?"
   ]
  },
  {
   "cell_type": "markdown",
   "metadata": {},
   "source": [
    "## Problem 2: Randomly sampling points on the sphere with $\\texttt{python}$ scripts"
   ]
  },
  {
   "cell_type": "markdown",
   "metadata": {},
   "source": [
    "In an IDE (e.g. PyCharm):  \n",
    "(i) Make two python files (ending in .py):  \n",
    "- One file will contain functions for data manipulation.  \n",
    "- One file will contain functions for plotting.  \n",
    "\n",
    "(ii) In the file for doing the calculations, create two functions:  \n",
    "- A function that will randomly sample from the surface of a sphere. The input should be the size of the sample. The outputs should be the spherical coordinates $\\theta$ and $\\phi$ of all the points.  \n",
    "- A function for projecting a set of points in spherical coordinates to Cartesian coordinates. Inputs should be the spherical coordinates of the points and an optional radius parameter (default is set to 1). "
   ]
  },
  {
   "cell_type": "code",
   "execution_count": 1,
   "metadata": {},
   "outputs": [],
   "source": [
    "import numpy as np\n",
    "\n",
    "def sample_sphere(n):\n",
    "    \"\"\"\n",
    "    Docstring goes here...\n",
    "    \"\"\"\n",
    "    return theta, phi\n",
    "\n",
    "def get_cartesian_coords(phi, theta, r = 1):\n",
    "    \"\"\"\n",
    "    Docstring goes here...\n",
    "    \"\"\"\n",
    "    return x, y, z"
   ]
  },
  {
   "cell_type": "markdown",
   "metadata": {},
   "source": [
    "(iii) In the file for plotting, create two functions:\n",
    "- A function for making the scatter plots.  \n",
    "- A function for making the histogram plots."
   ]
  },
  {
   "cell_type": "code",
   "execution_count": 2,
   "metadata": {},
   "outputs": [],
   "source": [
    "import matplotlib.pyplot as plt \n",
    "import numpy as np\n",
    "\n",
    "def plot_scatter():\n",
    "    \"\"\"\n",
    "    Docstring goes here...\n",
    "    \"\"\"\n",
    "    \n",
    "def plot_histogram():\n",
    "    \"\"\"\n",
    "    Docstring goes here...\n",
    "    \"\"\""
   ]
  },
  {
   "cell_type": "markdown",
   "metadata": {},
   "source": [
    "(iv) In a `jupyter` notebook :\n",
    "- Import your functions.\n",
    "- Repeat the operations from problem 1, this time using your functions."
   ]
  },
  {
   "cell_type": "code",
   "execution_count": null,
   "metadata": {},
   "outputs": [],
   "source": []
  }
 ],
 "metadata": {
  "kernelspec": {
   "display_name": "statmeth_env",
   "language": "python",
   "name": "statmeth_env"
  },
  "language_info": {
   "codemirror_mode": {
    "name": "ipython",
    "version": 3
   },
   "file_extension": ".py",
   "mimetype": "text/x-python",
   "name": "python",
   "nbconvert_exporter": "python",
   "pygments_lexer": "ipython3",
   "version": "3.11.4"
  }
 },
 "nbformat": 4,
 "nbformat_minor": 2
}
